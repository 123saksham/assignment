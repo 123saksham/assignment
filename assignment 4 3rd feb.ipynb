{
 "cells": [
  {
   "cell_type": "code",
   "execution_count": 17,
   "id": "4bd1d52a-7545-4af5-8183-b81411357301",
   "metadata": {},
   "outputs": [
    {
     "data": {
      "text/plain": [
       "[1, 3, 5, 7, 9, 11, 13, 15, 17, 19, 21, 23, 25]"
      ]
     },
     "execution_count": 17,
     "metadata": {},
     "output_type": "execute_result"
    }
   ],
   "source": [
    "##1\n",
    "def odd(l):\n",
    "    l1=[]\n",
    "    for i in l:\n",
    "        if i%2==0:\n",
    "            a=i\n",
    "        else:\n",
    "            l1.append(i)\n",
    "    return l1\n",
    "\n",
    "\n",
    "l=list(range(1,26))\n",
    "odd(l)\n",
    "    \n",
    "    "
   ]
  },
  {
   "cell_type": "code",
   "execution_count": 28,
   "id": "0e2defc3-f60b-406a-a6c8-0e04362ade6f",
   "metadata": {},
   "outputs": [
    {
     "data": {
      "text/plain": [
       "(1, 2, 3, 'sak')"
      ]
     },
     "execution_count": 28,
     "metadata": {},
     "output_type": "execute_result"
    }
   ],
   "source": [
    "##2\n",
    "\"\"\"*args is used in funtion to take multiple input and returns data in tuples while **kwargs is used to take multiple inputs in the \n",
    " form of key value pair and returns the data in dictionary.\"\"\"\n",
    "def fun(*args):\n",
    "    return args\n",
    "def Fun(**kwargs):\n",
    "    return kwargs\n",
    "fun(1,2,3,\"sak\")"
   ]
  },
  {
   "cell_type": "code",
   "execution_count": 37,
   "id": "f51f2213-d34f-40a8-9f5a-2a93d49b6dfd",
   "metadata": {},
   "outputs": [
    {
     "data": {
      "text/plain": [
       "{'i': 10, 'a': 2, 'g': 16}"
      ]
     },
     "execution_count": 37,
     "metadata": {},
     "output_type": "execute_result"
    }
   ],
   "source": [
    "Fun(i=10,a=2,g=16)"
   ]
  },
  {
   "cell_type": "code",
   "execution_count": 3,
   "id": "beed2531-6f66-4644-b915-48fe7e5b9d0d",
   "metadata": {},
   "outputs": [
    {
     "name": "stdout",
     "output_type": "stream",
     "text": [
      "2\n",
      "4\n",
      "6\n",
      "8\n",
      "10\n"
     ]
    }
   ],
   "source": [
    "##3\n",
    "\"\"\"an iterator is an object which contains countable number of variables.\n",
    "iter() is used to initiate the and next() is used to iterate.\"\"\"\n",
    "l=[2, 4, 6, 8, 10, 12, 14, 16, 18, 20]\n",
    "l1=iter(l)\n",
    "for i in range(5):\n",
    "    print(next(l1))\n"
   ]
  },
  {
   "cell_type": "code",
   "execution_count": 12,
   "id": "62041114-d434-4536-892e-79f6bf1e2697",
   "metadata": {},
   "outputs": [
    {
     "name": "stdout",
     "output_type": "stream",
     "text": [
      "7\n",
      "14\n",
      "21\n",
      "28\n",
      "35\n",
      "42\n",
      "49\n",
      "56\n",
      "63\n",
      "70\n"
     ]
    }
   ],
   "source": [
    "##4\n",
    "\"\"\"what is genrator function \n",
    "In Python, a generator is a function that returns an iterator that produces a sequence of values when iterated over.\n",
    "Generators are useful when we want to produce a large number of values, but we do not want to store all of them in memory at once.\n",
    "why yield key world key world is used\n",
    "yeild is used to return the values in genrator function.\n",
    "example of genrator funtion -printing table of given values\"\"\"\n",
    "def table(n):\n",
    "    for i in range(1,11):\n",
    "        yield n*i\n",
    "for x in table(7):\n",
    "    print(x)\n",
    "        "
   ]
  },
  {
   "cell_type": "code",
   "execution_count": 3,
   "id": "95d87748-4494-40f5-bf1d-c45bfbfdd30f",
   "metadata": {},
   "outputs": [
    {
     "name": "stdout",
     "output_type": "stream",
     "text": [
      "2\n",
      "3\n",
      "5\n",
      "7\n",
      "11\n",
      "13\n",
      "17\n",
      "19\n",
      "23\n",
      "29\n",
      "31\n",
      "37\n",
      "41\n",
      "43\n",
      "47\n",
      "53\n",
      "59\n",
      "61\n",
      "67\n",
      "71\n",
      "73\n",
      "79\n"
     ]
    }
   ],
   "source": [
    "##5\n",
    "def prime():\n",
    "    for i in range(2,1000):\n",
    "        if i<=3:\n",
    "            print(i)\n",
    "        else:\n",
    "            for x in range(2,i-1):\n",
    "                if i%x==0:\n",
    "                    break\n",
    "            else:\n",
    "                    yield i\n",
    "p=prime()\n",
    "for h in range(20):\n",
    "    print(next(p))"
   ]
  },
  {
   "cell_type": "code",
   "execution_count": null,
   "id": "763b646b-fd26-4aba-b620-ab518d3155c1",
   "metadata": {},
   "outputs": [],
   "source": [
    "##6 fibbanaci series by while loop\n",
    "a=0\n",
    "b=1\n",
    "count=0\n",
    "while count<10:\n",
    "    print(a)\n",
    "    a,b=b,a+b"
   ]
  },
  {
   "cell_type": "code",
   "execution_count": 8,
   "id": "96a00c11-16be-4016-8dba-1f7f642ab89c",
   "metadata": {},
   "outputs": [
    {
     "name": "stdout",
     "output_type": "stream",
     "text": [
      "['p', 'w', 's', 'k', 'i', 'l', 'l', 's']\n"
     ]
    }
   ],
   "source": [
    "##7 list comprehension\n",
    "s=\"pwskills\"\n",
    "l=[i for i in s]\n",
    "print(l)"
   ]
  },
  {
   "cell_type": "code",
   "execution_count": 15,
   "id": "2226f72e-ef0e-467b-9f7c-f55c3287d928",
   "metadata": {},
   "outputs": [
    {
     "name": "stdin",
     "output_type": "stream",
     "text": [
      "enter the number 212322\n"
     ]
    },
    {
     "name": "stdout",
     "output_type": "stream",
     "text": [
      "number is not pallindrome\n"
     ]
    }
   ],
   "source": [
    "##8 checking number is pallindrome or not\n",
    "i=input(\"enter the number\")\n",
    "if i==i[::-1]:\n",
    "    print(\"number is pallindrome\")\n",
    "else:\n",
    "    print(\"number is not pallindrome\")\n"
   ]
  },
  {
   "cell_type": "code",
   "execution_count": 12,
   "id": "69955421-cc52-4195-91d7-29664f2be206",
   "metadata": {},
   "outputs": [
    {
     "name": "stdout",
     "output_type": "stream",
     "text": [
      "[1, 3, 5, 7, 9, 11, 13, 15, 17, 19, 21, 23, 25, 27, 29, 31, 33, 35, 37, 39, 41, 43, 45, 47, 49, 51, 53, 55, 57, 59, 61, 63, 65, 67, 69, 71, 73, 75, 77, 79, 81, 83, 85, 87, 89, 91, 93, 95, 97, 99]"
     ]
    }
   ],
   "source": [
    "##9 list comprehension\n",
    "l=[i for i in range (1,101)]\n",
    "l1=[x for x in l if x%2!=0]\n",
    "print(l1,end=\"\")"
   ]
  }
 ],
 "metadata": {
  "kernelspec": {
   "display_name": "Python 3 (ipykernel)",
   "language": "python",
   "name": "python3"
  },
  "language_info": {
   "codemirror_mode": {
    "name": "ipython",
    "version": 3
   },
   "file_extension": ".py",
   "mimetype": "text/x-python",
   "name": "python",
   "nbconvert_exporter": "python",
   "pygments_lexer": "ipython3",
   "version": "3.10.8"
  }
 },
 "nbformat": 4,
 "nbformat_minor": 5
}
